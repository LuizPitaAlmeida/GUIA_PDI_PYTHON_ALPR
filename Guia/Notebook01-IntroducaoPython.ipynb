{
 "cells": [
  {
   "cell_type": "markdown",
   "metadata": {},
   "source": [
    "![header](../header.png)"
   ]
  },
  {
   "cell_type": "markdown",
   "metadata": {},
   "source": [
    "# Guia de Processamento Digital de Imagens em linguagem de programação Python\n",
    "\n",
    "## Estudo de caso em Reconhecimento Automático de Placas Veiculares\n",
    "\n",
    "### Descrição\n",
    "\n",
    "Esse guia é composto de diversos notebooks que têm por principal objetivo apresentar o desenvolvimento de algoritmos em linguagem python com uso da biblioteca de visão computacional OpenCV. Para isso, toma como exemplo um estudo de caso em reconhecimento automático de placas veiculares. As imagens utilizadas são do [SSIG-ALPR Database](http://www.smartsenselab.dcc.ufmg.br/ssig-alpr-database).\n",
    "\n",
    "### Notebook número 1\n",
    "\n",
    "Esse notebook tem por objetivo introduzir um pouco da linguagem python, em especial a biblioteca Numpy. Esse biblioteca facilitará os cálculos vetoriais e matriciais, além de incluir uma diversidade de funções estatísticas.\n",
    "\n",
    "Nesse caso, o primeiro passo a ser dado é a importação das bibliotecas."
   ]
  },
  {
   "cell_type": "code",
   "execution_count": 10,
   "metadata": {},
   "outputs": [],
   "source": [
    "# Use # para adicionar comentarios de uma linha\n",
    "import numpy as np"
   ]
  },
  {
   "cell_type": "markdown",
   "metadata": {},
   "source": [
    "#### Criando Vetores e Matrizes"
   ]
  },
  {
   "cell_type": "code",
   "execution_count": 88,
   "metadata": {},
   "outputs": [
    {
     "name": "stdout",
     "output_type": "stream",
     "text": [
      "vector_row =  [1 2 3]\n",
      "vector_column = \n",
      " [[1]\n",
      " [2]\n",
      " [3]]\n",
      "matrix = \n",
      " [[1 2 3]\n",
      " [4 5 6]]\n",
      "matrix_1s = \n",
      " [[1. 1. 1.]\n",
      " [1. 1. 1.]]\n",
      "matrix_0s =  [[0 0 0 0 0]]\n",
      "vector_arange =  [0.  0.1 0.2 0.3 0.4 0.5 0.6 0.7 0.8 0.9]\n",
      "vector_linspace =  [0.  0.1 0.2 0.3 0.4 0.5 0.6 0.7 0.8 0.9 1. ]\n"
     ]
    }
   ],
   "source": [
    "#Criando vetor linha\n",
    "vector_row = np.array([1,2,3])\n",
    "\n",
    "#Criando vetor coluna\n",
    "vector_column = np.array([[1],[2],[3]])\n",
    "\n",
    "#Exibindo os vetores\n",
    "print ('vector_row = ',vector_row)\n",
    "print ('vector_column = \\n',vector_column)\n",
    "\n",
    "#Criando uma matriz\n",
    "matrix = np.array([[1,2,3],[4,5,6]])\n",
    "print('matrix = \\n',matrix)\n",
    "\n",
    "#Criando matriz de uns e zeros especificando tipo de variavel\n",
    "matrix_1s = np.ones([2,3],'float')\n",
    "matrix_0s = np.zeros([1,5],'uint8')\n",
    "print('matrix_1s = \\n',matrix_1s)\n",
    "print('matrix_0s = ',matrix_0s)\n",
    "\n",
    "#Criando vetor a partir de valor inicial, final e passo\n",
    "vector_arange = np.arange(0,1,0.1,'float')\n",
    "print('vector_arange = ',vector_arange)\n",
    "\n",
    "#Criando vetor a partir de valor inicial, final e quantidade de elementos\n",
    "vector_linspace = np.linspace(0,1,11,'float')\n",
    "print('vector_linspace = ',vector_linspace)"
   ]
  },
  {
   "cell_type": "markdown",
   "metadata": {},
   "source": [
    "#### Selecionando elementos"
   ]
  },
  {
   "cell_type": "code",
   "execution_count": 27,
   "metadata": {},
   "outputs": [
    {
     "name": "stdout",
     "output_type": "stream",
     "text": [
      "[1 2 3 4 5 6] \n",
      "\n",
      "[[1 2 3]\n",
      " [4 5 6]\n",
      " [7 8 9]] \n",
      "\n",
      "3 \n",
      "\n",
      "5 \n",
      "\n",
      "[1 2 3 4 5 6] \n",
      "\n",
      "[1 2 3] \n",
      "\n",
      "[4 5 6] \n",
      "\n",
      "6 \n",
      "\n",
      "[[1 2 3]\n",
      " [4 5 6]] \n",
      "\n",
      "[[2]\n",
      " [5]\n",
      " [8]]\n"
     ]
    }
   ],
   "source": [
    "#Criando vetor linha\n",
    "vector_row = np.array([ 1,2,3,4,5,6 ])\n",
    "print(vector_row,'\\n')\n",
    "\n",
    "#Criando uma matriz\n",
    "matrix = np.array([[1,2,3],[4,5,6],[7,8,9]])\n",
    "print(matrix,'\\n')\n",
    "\n",
    "#Selecionando terceiro elemento do vetor\n",
    "print(vector_row[2],'\\n')\n",
    "\n",
    "#Selecionando elemento da segunda linha e segunda coluna da matriz\n",
    "print(matrix[1,1],'\\n')\n",
    "\n",
    "#Selecionando todos os elementos do vetor\n",
    "print(vector_row[:],'\\n')\n",
    "\n",
    "#Selecionando tudo até e incluindo o terceiro elemento do vetor\n",
    "print(vector_row[:3],'\\n')\n",
    "\n",
    "#Selecionando tudo após o terceiro elemento do vetor\n",
    "print(vector_row[3:],'\\n')\n",
    "\n",
    "#Selecionando o último elemento do vetor\n",
    "print(vector_row[-1],'\\n')\n",
    "\n",
    "#Selecionando as duas primeiras linhas e todas as colunas da matriz\n",
    "print(matrix[:2,:],'\\n')\n",
    "\n",
    "#Selecionando todas as linhas e a segunda coluna da matriz\n",
    "print(matrix[:,1:2])"
   ]
  },
  {
   "cell_type": "markdown",
   "metadata": {},
   "source": [
    "#### Descrevendo uma matriz"
   ]
  },
  {
   "cell_type": "code",
   "execution_count": 36,
   "metadata": {},
   "outputs": [
    {
     "name": "stdout",
     "output_type": "stream",
     "text": [
      "[[ 1  2  3]\n",
      " [ 4  5  6]\n",
      " [ 7  8  9]\n",
      " [10 11 12]] \n",
      "\n",
      "(4, 3)\n",
      "Linhas:  4\n",
      "Colunas:  3 \n",
      "\n",
      "12 \n",
      "\n",
      "2\n"
     ]
    }
   ],
   "source": [
    "#Criando uma matriz\n",
    "matrix = np.array([[1,2,3],[4,5,6],[7,8,9],[10,11,12]])\n",
    "print(matrix,'\\n')\n",
    "\n",
    "#Visualizando o número de linhas e de colunas da matríz\n",
    "print(matrix.shape)\n",
    "print('Linhas: ',matrix.shape[0])\n",
    "print('Colunas: ',matrix.shape[1],'\\n')\n",
    "\n",
    "#Visualizando numero de elementos (linhas*colunas)\n",
    "print(matrix.size,'\\n')\n",
    "\n",
    "#isualizando o numero de dimensoes(nesse caso 2)\n",
    "print(matrix.ndim)"
   ]
  },
  {
   "cell_type": "markdown",
   "metadata": {},
   "source": [
    "#### Extraindo informações "
   ]
  },
  {
   "cell_type": "code",
   "execution_count": 38,
   "metadata": {},
   "outputs": [
    {
     "name": "stdout",
     "output_type": "stream",
     "text": [
      "[[ 1  2  3]\n",
      " [ 4  5  6]\n",
      " [ 7  8  9]\n",
      " [10 11 12]] \n",
      "\n",
      "Maximo =  12\n",
      "Minimo =  1\n",
      "Maximo por coluna =  [10 11 12]\n",
      "Maximo por linha =  [ 3  6  9 12]\n"
     ]
    }
   ],
   "source": [
    "print(matrix,'\\n')\n",
    "\n",
    "#Return the max element\n",
    "print('Maximo = ',np.max(matrix))\n",
    "\n",
    "#Return the min element\n",
    "print('Minimo = ',np.min(matrix))\n",
    "\n",
    "#To find the max element in each column\n",
    "print('Maximo por coluna = ',np.max(matrix,axis=0))\n",
    "\n",
    "#To find the max element in each row\n",
    "print('Maximo por linha = ',np.max(matrix,axis=1))"
   ]
  },
  {
   "cell_type": "code",
   "execution_count": 39,
   "metadata": {},
   "outputs": [
    {
     "name": "stdout",
     "output_type": "stream",
     "text": [
      "[[ 1  2  3]\n",
      " [ 4  5  6]\n",
      " [ 7  8  9]\n",
      " [10 11 12]] \n",
      "\n",
      "Media =  6.5\n",
      "Desvio padrão =  3.452052529534663\n",
      "Variancia =  11.916666666666666\n"
     ]
    }
   ],
   "source": [
    "print(matrix,'\\n')\n",
    "\n",
    "#Média\n",
    "print('Media = ',np.mean(matrix))\n",
    "\n",
    "#Desvio padrão\n",
    "print('Desvio padrão = ',np.std(matrix))\n",
    "\n",
    "#Variancia\n",
    "print('Variancia = ',np.var(matrix))"
   ]
  },
  {
   "cell_type": "markdown",
   "metadata": {},
   "source": [
    "#### Reshaping"
   ]
  },
  {
   "cell_type": "code",
   "execution_count": 46,
   "metadata": {},
   "outputs": [
    {
     "name": "stdout",
     "output_type": "stream",
     "text": [
      "[[1 2 3]\n",
      " [4 5 6]\n",
      " [7 8 9]] \n",
      "\n",
      "[[1]\n",
      " [2]\n",
      " [3]\n",
      " [4]\n",
      " [5]\n",
      " [6]\n",
      " [7]\n",
      " [8]\n",
      " [9]] \n",
      "\n",
      "[[1 2 3 4 5 6 7 8 9]] \n",
      "\n",
      "[1 2 3 4 5 6 7 8 9] \n",
      "\n",
      "[1 2 3 4 5 6 7 8 9] \n",
      "\n"
     ]
    }
   ],
   "source": [
    "#Criando uma matriz\n",
    "matrix = np.array([[1,2,3],[4,5,6],[7,8,9]])\n",
    "print(matrix,'\\n')\n",
    "\n",
    "#Reshape\n",
    "print(matrix.reshape(9,1),'\\n')\n",
    "\n",
    "#Aqui -1 significa quantas colunas forem necessárias e 1 linha\n",
    "print(matrix.reshape(1,-1),'\\n')\n",
    "\n",
    "#Se for fornecido apenas 1 valor será retornado um vetor 1-d com esse comprimento\n",
    "print(matrix.reshape(9),'\\n')\n",
    "\n",
    "#Pode-se usar o método Flatten para converter a matrix em um vetor 1-d\n",
    "print(matrix.flatten(),'\\n')"
   ]
  },
  {
   "cell_type": "markdown",
   "metadata": {},
   "source": [
    "#### Operações Matriciais"
   ]
  },
  {
   "cell_type": "code",
   "execution_count": 80,
   "metadata": {},
   "outputs": [
    {
     "name": "stdout",
     "output_type": "stream",
     "text": [
      "[[-1  1  1]\n",
      " [ 2 -2  2]\n",
      " [ 3  3 -3]] \n",
      "\n",
      "Transposta = \n",
      " [[-1  2  3]\n",
      " [ 1 -2  3]\n",
      " [ 1  2 -3]]\n",
      "Inversa = \n",
      " [[ 0.          0.25        0.16666667]\n",
      " [ 0.5        -0.          0.16666667]\n",
      " [ 0.5         0.25        0.        ]]\n",
      "Determinante =  24.000000000000004\n",
      "Diagonal principal =  [-1 -2 -3]\n",
      "Diagonal secundaria uma abaixo =  [1 2]\n",
      "Diagonal secundaria uma acima =  [2 3]\n"
     ]
    }
   ],
   "source": [
    "#Criando uma matriz\n",
    "matrix = np.array([[-1,1,1],[2,-2,2],[3,3,-3]])\n",
    "print(matrix,'\\n')\n",
    "\n",
    "#Transposta\n",
    "print('Transposta = \\n', matrix.T)\n",
    "\n",
    "#Inversa\n",
    "print('Inversa = \\n', np.linalg.inv(matrix))\n",
    "\n",
    "#Determinante\n",
    "print('Determinante = ', np.linalg.det(matrix))\n",
    "\n",
    "#Diagonal principal\n",
    "print('Diagonal principal = ', matrix.diagonal())\n",
    "\n",
    "#Diagonais secundarias\n",
    "print('Diagonal secundaria uma abaixo = ', matrix.diagonal(offset=1))\n",
    "print('Diagonal secundaria uma acima = ', matrix.diagonal(offset=-1))"
   ]
  },
  {
   "cell_type": "code",
   "execution_count": 81,
   "metadata": {},
   "outputs": [
    {
     "name": "stdout",
     "output_type": "stream",
     "text": [
      "[[ 8 10 12]\n",
      " [ 8 10 12]\n",
      " [ 8 10 12]]\n",
      "[[-6 -6 -6]\n",
      " [ 0  0  0]\n",
      " [ 6  6  6]]\n",
      "[[ 7 16 27]\n",
      " [16 25 36]\n",
      " [ 7 16 27]]\n",
      "[[ 18  24  30]\n",
      " [ 54  69  84]\n",
      " [ 90 114 138]]\n",
      "[[ 1  4  9]\n",
      " [16 25 36]\n",
      " [49 64 81]]\n"
     ]
    }
   ],
   "source": [
    "#Criando Matrix-1\n",
    "matrix_1 = np.array([[1,2,3],[4,5,6],[7,8,9]])\n",
    "#Criando Matrix-2\n",
    "matrix_2 = np.array([[7,8,9],[4,5,6],[1,2,3]])\n",
    "\n",
    "#Soma\n",
    "print(np.add(matrix_1,matrix_2))\n",
    "\n",
    "#Subtração\n",
    "print(np.subtract(matrix_1,matrix_2))\n",
    "\n",
    "#Multiplicação ponto a ponto\n",
    "print(matrix_1 * matrix_2)\n",
    "\n",
    "#Multiplicação de matrizes\n",
    "print(matrix_1 @ matrix_2)\n",
    "\n",
    "#Criando Matrix-3\n",
    "matrix_3 = 2*np.ones([3,3],'uint8')\n",
    "\n",
    "#Potenciação ponto a ponto\n",
    "print(matrix_1 ** matrix_3)"
   ]
  },
  {
   "cell_type": "markdown",
   "metadata": {},
   "source": [
    "#### Gerando números aleatórios"
   ]
  },
  {
   "cell_type": "code",
   "execution_count": 91,
   "metadata": {},
   "outputs": [
    {
     "name": "stdout",
     "output_type": "stream",
     "text": [
      "[5 8 9]\n",
      "[-0.60434568  0.10224438 -1.21187015]\n"
     ]
    }
   ],
   "source": [
    "#Criando semente (seed)\n",
    "np.random.seed(1)\n",
    "\n",
    "#Gerando 3 inteiros aleatórios entre 1 e 10\n",
    "print(np.random.randint(0,11,3))\n",
    "\n",
    "#Gerando 3 numeros a partir de uma distribuicao normal com media 1.0 e desvio padrao 2.0\n",
    "print(np.random.normal(1.0,2.0,3))"
   ]
  },
  {
   "cell_type": "markdown",
   "metadata": {},
   "source": [
    "### Referências\n",
    "\n",
    "- https://medium.com/@sid_darthvader/an-essential-guide-to-numpy-for-machine-learning-in-python-5615e1758301\n",
    "- http://cs231n.github.io/python-numpy-tutorial/\n",
    "- [Gabriel Resende Gonçalves, Sirlene Pio Gomes da Silva, David Menotti, William Robson Schwartz (2016): Benchmark for License Plate Character Segmentation. In: Journal of Electronic Imaging, 25 (5), pp. 1-5, 2016, ISBN: 1017-9909.](http://www.ssig.dcc.ufmg.br/wp-content/uploads/2016/11/JEI-2016-Benchmark.pdf) "
   ]
  },
  {
   "cell_type": "code",
   "execution_count": null,
   "metadata": {},
   "outputs": [],
   "source": []
  }
 ],
 "metadata": {
  "kernelspec": {
   "display_name": "Python 3",
   "language": "python",
   "name": "python3"
  },
  "language_info": {
   "codemirror_mode": {
    "name": "ipython",
    "version": 3
   },
   "file_extension": ".py",
   "mimetype": "text/x-python",
   "name": "python",
   "nbconvert_exporter": "python",
   "pygments_lexer": "ipython3",
   "version": "3.5.2"
  }
 },
 "nbformat": 4,
 "nbformat_minor": 2
}
